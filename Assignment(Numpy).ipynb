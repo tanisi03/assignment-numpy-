{
  "nbformat": 4,
  "nbformat_minor": 0,
  "metadata": {
    "colab": {
      "provenance": []
    },
    "kernelspec": {
      "name": "python3",
      "display_name": "Python 3"
    },
    "language_info": {
      "name": "python"
    }
  },
  "cells": [
    {
      "cell_type": "markdown",
      "source": [
        "Theoretical Questions:\n"
      ],
      "metadata": {
        "id": "pC_ckcPPgk8s"
      }
    },
    {
      "cell_type": "code",
      "source": [
        "#Q1. Explain the purpose and advantages of NumPy in scientific computing and data analysis. How does it enhance Python's capabilities for numerical operations?\n",
        "\n",
        "\n",
        "#NumPy is a fundamental library in Python for scientific computing. It offers powerful features for working with multidimensional arrays and performing various mathematical operations efficiently.NumPy (Numerical Python) is an open source Python library that has a wide range of inbuilt functions.\n"
      ],
      "metadata": {
        "id": "cVz1gaT7gmpx"
      },
      "execution_count": 1,
      "outputs": []
    },
    {
      "cell_type": "code",
      "source": [
        "#Q2. Compare and contrast np.mean() and np.average() functions in NumPy. When would you use one over the other?\n",
        "\n",
        "\n",
        "#np.mean()- calculate the simple arithmetic mean of an array and treats all elements equally.\n",
        "#mp.average()- can also calculate the mean but allows for weighted averages,letting you assign different importance to elements.\n",
        "#use np.mean() for a straightforward average and np.average() when you need to consider weights."
      ],
      "metadata": {
        "id": "fen9Jf1jhFAf"
      },
      "execution_count": 2,
      "outputs": []
    },
    {
      "cell_type": "code",
      "source": [
        "#Q3. Describe the methods for reversing a NumPy array along different axes. Provide examples for 1D and 2D arrays.\n",
        "\n",
        "#you can use slicing and the np.flip() function"
      ],
      "metadata": {
        "id": "t5-EAABwleBR"
      },
      "execution_count": 3,
      "outputs": []
    },
    {
      "cell_type": "code",
      "source": [
        "#reversing a 1d array\n",
        "#example using slicing\n",
        "\n",
        "import numpy as np\n",
        "\n",
        "arr_1d = np.array([1, 2, 3, 4, 5])\n",
        "reversed_1d = arr_1d[::-1]\n",
        "print(reversed_1d)"
      ],
      "metadata": {
        "colab": {
          "base_uri": "https://localhost:8080/"
        },
        "id": "RNgxaQF_oqNw",
        "outputId": "e2add8fd-6a2c-40bb-ec6c-1ee16dd6bc9e"
      },
      "execution_count": 6,
      "outputs": [
        {
          "output_type": "stream",
          "name": "stdout",
          "text": [
            "[5 4 3 2 1]\n"
          ]
        }
      ]
    },
    {
      "cell_type": "code",
      "source": [
        "#example using np.flip()\n",
        "\n",
        "reversed_1d_flip = np.flip(arr_1d)\n",
        "print(reversed_1d_flip)"
      ],
      "metadata": {
        "colab": {
          "base_uri": "https://localhost:8080/"
        },
        "id": "EYZ57jz4o6-C",
        "outputId": "963f693a-75d9-4fd0-cce5-26589582016a"
      },
      "execution_count": 7,
      "outputs": [
        {
          "output_type": "stream",
          "name": "stdout",
          "text": [
            "[5 4 3 2 1]\n"
          ]
        }
      ]
    },
    {
      "cell_type": "code",
      "source": [
        "#reversing a 2d array\n",
        "#example using slicing\n",
        "\n",
        "arr_2d = np.array([[1, 2, 3], [4, 5, 6], [7, 8, 9]])\n",
        "reversed_2d = arr_2d[::-1, ::-1]\n",
        "print(reversed_2d)"
      ],
      "metadata": {
        "colab": {
          "base_uri": "https://localhost:8080/"
        },
        "id": "xfjwBivZpBpz",
        "outputId": "3968ca4f-9d1b-4ae0-aea5-4b05bbf5e413"
      },
      "execution_count": 8,
      "outputs": [
        {
          "output_type": "stream",
          "name": "stdout",
          "text": [
            "[[9 8 7]\n",
            " [6 5 4]\n",
            " [3 2 1]]\n"
          ]
        }
      ]
    },
    {
      "cell_type": "code",
      "source": [
        "#example using np.flip()\n",
        "\n",
        "reversed_2d_flip = np.flip(arr_2d)\n",
        "print(reversed_2d_flip)"
      ],
      "metadata": {
        "colab": {
          "base_uri": "https://localhost:8080/"
        },
        "id": "HNltU6mkp6Wi",
        "outputId": "4e7793a7-a56c-42a8-dcbb-69425ca8af2c"
      },
      "execution_count": 9,
      "outputs": [
        {
          "output_type": "stream",
          "name": "stdout",
          "text": [
            "[[9 8 7]\n",
            " [6 5 4]\n",
            " [3 2 1]]\n"
          ]
        }
      ]
    },
    {
      "cell_type": "code",
      "source": [
        "#Q4. How can you determine the data type of elements in a NumPy array? Discuss the importance of data types in memory management and performance.\n",
        "\n",
        "\n",
        "#We use the array() function to create arrays, this function can take an optional argument: dtype that allows us to define the expected data type of the array elements"
      ],
      "metadata": {
        "id": "K2zs1A1QqT5n"
      },
      "execution_count": 10,
      "outputs": []
    },
    {
      "cell_type": "code",
      "source": [
        "import numpy as np\n",
        "arr = np.array([1, 2, 3, 4], dtype='S')\n",
        "print(arr)\n",
        "print(arr.dtype)"
      ],
      "metadata": {
        "colab": {
          "base_uri": "https://localhost:8080/"
        },
        "id": "9CMgIZ_Lshpx",
        "outputId": "c3543c68-6028-408f-e018-c1df27cf342e"
      },
      "execution_count": 12,
      "outputs": [
        {
          "output_type": "stream",
          "name": "stdout",
          "text": [
            "[b'1' b'2' b'3' b'4']\n",
            "|S1\n"
          ]
        }
      ]
    },
    {
      "cell_type": "code",
      "source": [
        "#data types are crucial for memory management and performance because: memory efficiency,performance,precision\n",
        "#overall ,selecting the appropriate data type helps ensure efficient memory use and optimal performance."
      ],
      "metadata": {
        "id": "EeMNUH-osug7"
      },
      "execution_count": 13,
      "outputs": []
    },
    {
      "cell_type": "code",
      "source": [
        "#Q5. Define ndarrays in NumPy and explain their key features. How do they differ from standard Python lists?\n",
        "\n",
        "\n",
        "#Arrays are “n-dimensional” data structures that can contain all the basic Python data types, e.g., floats, integers, strings etc, but work best with numeric data. NumPy arrays (“ndarrays”) are homogenous, which means that items in the array should be of the same type.\n",
        "#NumPy provides a rich set of data types that can be used to create arrays with different types of elements. The data types in NumPy are similar to, but not exactly the same as, Python data types."
      ],
      "metadata": {
        "id": "SUWiAH2ju-UA"
      },
      "execution_count": 14,
      "outputs": []
    },
    {
      "cell_type": "code",
      "source": [
        "#Q6. Analyze the performance benefits of NumPy arrays over Python lists for large-scale numerical operations\n",
        "\n",
        "#\"NumPy - Array From Existing Data\" refers to the capability of creating NumPy arrays using pre-existing data structures or arrays. NumPy is a powerful numerical computing library in Python, and its arrays (ndarrays) are a fundamental data structure that allows efficient manipulation of numerical data."
      ],
      "metadata": {
        "id": "eyMN8B25xD4I"
      },
      "execution_count": 15,
      "outputs": []
    },
    {
      "cell_type": "code",
      "source": [
        "#Q7. Compare vstack() and hstack() functions in NumPy. Provide examples demonstrating their usage and output.\n",
        "\n",
        "#in numpy, vstack() and hstack() are functions used to stack arrays vertically and horizontally , respectively.\n"
      ],
      "metadata": {
        "id": "3DWuD4xw6z4l"
      },
      "execution_count": 16,
      "outputs": []
    },
    {
      "cell_type": "code",
      "source": [
        "#example of vstack()\n",
        "\n",
        "import numpy as np\n",
        "array1 = np.array([[1, 2], [3, 4]])\n",
        "array2 = np.array([[5, 6]])\n",
        "result = np.vstack((array1, array2))\n",
        "print(result)\n"
      ],
      "metadata": {
        "colab": {
          "base_uri": "https://localhost:8080/"
        },
        "id": "T6SKPkta8jzH",
        "outputId": "9c0a8cd6-1f45-4329-d5f0-3965f0411af2"
      },
      "execution_count": 18,
      "outputs": [
        {
          "output_type": "stream",
          "name": "stdout",
          "text": [
            "[[1 2]\n",
            " [3 4]\n",
            " [5 6]]\n"
          ]
        }
      ]
    },
    {
      "cell_type": "code",
      "source": [
        "#example of hstack()\n",
        "\n",
        "import numpy as np\n",
        "array1 = np.array([[1, 2], [3, 4]])\n",
        "array2 = np.array([[5], [6]])\n",
        "result = np.hstack((array1, array2))\n",
        "print(result)\n"
      ],
      "metadata": {
        "colab": {
          "base_uri": "https://localhost:8080/"
        },
        "id": "mfEC_E8j87Gu",
        "outputId": "4cdf91ec-0ed5-4a43-abb4-d921931eb11b"
      },
      "execution_count": 19,
      "outputs": [
        {
          "output_type": "stream",
          "name": "stdout",
          "text": [
            "[[1 2 5]\n",
            " [3 4 6]]\n"
          ]
        }
      ]
    },
    {
      "cell_type": "code",
      "source": [
        "#vstack() stacks arrays vertically, resulting in an increase in the number of rows\n",
        "#hstack() stacks arrays horizontally, resulting in an increase in the number of columns."
      ],
      "metadata": {
        "id": "BuZeRYBs9NPb"
      },
      "execution_count": 20,
      "outputs": []
    },
    {
      "cell_type": "code",
      "source": [
        "#Q8. Explain the differences between fliplr() and flipud() methods in NumPy, including their effects on various array dimensions.\n",
        "\n",
        "#in numpy, fliplr() and flipud() are methods used to flip arrays along different axes."
      ],
      "metadata": {
        "id": "XGGtBmVW9pqI"
      },
      "execution_count": 21,
      "outputs": []
    },
    {
      "cell_type": "code",
      "source": [
        "#example of flipr()\n",
        "\n",
        "import numpy as np\n",
        "array2d = np.array([[1, 2, 3], [4, 5, 6], [7, 8, 9]])\n",
        "result_fliplr = np.fliplr(array2d)\n",
        "print(result_fliplr)"
      ],
      "metadata": {
        "colab": {
          "base_uri": "https://localhost:8080/"
        },
        "id": "4hhKictC_wE0",
        "outputId": "debb8782-e22e-4997-90ce-633128076d88"
      },
      "execution_count": 25,
      "outputs": [
        {
          "output_type": "stream",
          "name": "stdout",
          "text": [
            "[[3 2 1]\n",
            " [6 5 4]\n",
            " [9 8 7]]\n"
          ]
        }
      ]
    },
    {
      "cell_type": "code",
      "source": [
        "#example of flipud()\n",
        "\n",
        "import numpy as np\n",
        "array2d = np.array([[1, 2, 3], [4, 5, 6]])\n",
        "result_flipud = np.flipud(array2d)\n",
        "print(result_flipud)\n"
      ],
      "metadata": {
        "colab": {
          "base_uri": "https://localhost:8080/"
        },
        "id": "X3oA78n7_9zP",
        "outputId": "95332540-c937-40d3-ecd7-47cebbb263c1"
      },
      "execution_count": 27,
      "outputs": [
        {
          "output_type": "stream",
          "name": "stdout",
          "text": [
            "[[4 5 6]\n",
            " [1 2 3]]\n"
          ]
        }
      ]
    },
    {
      "cell_type": "code",
      "source": [
        "#effect on various array dimension\n",
        "#2d arrays-fliplr() flips arrays left to right(columns reversed).\n",
        "#2d arrays-flipud() flips arrays top to bottom(rows reversed)\n",
        "#for 1d arrays,both methods effectively reverse the order of elements"
      ],
      "metadata": {
        "id": "_oZbgZOLAkFQ"
      },
      "execution_count": 28,
      "outputs": []
    },
    {
      "cell_type": "code",
      "source": [
        "#example\n",
        "\n",
        "array1d = np.array([1, 2, 3, 4])\n",
        "result_fliplr_1d = np.fliplr(array1d.reshape(-1, 1))\n",
        "result_flipud_1d = np.flipud(array1d)\n",
        "print(result_fliplr_1d)\n",
        "print(result_flipud_1d)"
      ],
      "metadata": {
        "colab": {
          "base_uri": "https://localhost:8080/"
        },
        "id": "RkBEnOLWBeQA",
        "outputId": "6f736d18-2b4e-4d9b-d1bb-1063c4da558f"
      },
      "execution_count": 30,
      "outputs": [
        {
          "output_type": "stream",
          "name": "stdout",
          "text": [
            "[[1]\n",
            " [2]\n",
            " [3]\n",
            " [4]]\n",
            "[4 3 2 1]\n"
          ]
        }
      ]
    },
    {
      "cell_type": "code",
      "source": [
        "#Q9. Discuss the functionality of the array_split() method in NumPy. How does it handle uneven splits?\n",
        "\n",
        "#Splitting divides an array into multiple sub-arrays along a specified axis using functions like split, hsplit, or vsplit.\n",
        "#example"
      ],
      "metadata": {
        "id": "VhG8qsDqCCNt"
      },
      "execution_count": 31,
      "outputs": []
    },
    {
      "cell_type": "code",
      "source": [
        "import numpy as np\n",
        "arr = np.array([1,2,3,4,5,6,7,8,9])\n",
        "result = np.array_split(arr, 3)\n",
        "print(result)\n"
      ],
      "metadata": {
        "colab": {
          "base_uri": "https://localhost:8080/"
        },
        "id": "teSoBqmFDBfR",
        "outputId": "a94577f4-7ce3-4709-b4ff-b2cf4e156d4a"
      },
      "execution_count": 34,
      "outputs": [
        {
          "output_type": "stream",
          "name": "stdout",
          "text": [
            "[array([1, 2, 3]), array([4, 5, 6]), array([7, 8, 9])]\n"
          ]
        }
      ]
    },
    {
      "cell_type": "code",
      "source": [
        "#Q10. Explain the concepts of vectorization and broadcasting in NumPy. How do they contribute to efficient array operations?\n",
        "\n",
        "#NumPy broadcasting is a powerful feature that allows for implicit element-wise operations between arrays of different shapes and sizes. Broadcasting automatically adjusts the shape of smaller arrays to make them compatible with larger arrays, eliminating the need for explicit looping or copying of data. This makes it easier to perform operations on arrays of different shapes, reducing the need for unnecessary duplication of data. The general rule for broadcasting is that the dimensions of the arrays must be compatible, meaning that either the dimensions are equal, or one of them is 1. NumPy automatically performs broadcasting when you perform operations between arrays that satisfy these conditions.\n",
        "#vectorization in numpy means applying operations to entire arrays at once instead of using loops,which speeds up calculations.example,adding two arrays can be done directly with a+b, making it much faster"
      ],
      "metadata": {
        "id": "9irmHvuPDeB5"
      },
      "execution_count": null,
      "outputs": []
    },
    {
      "cell_type": "markdown",
      "source": [
        "Practical Questions:\n"
      ],
      "metadata": {
        "id": "5K9rBhrcFvMB"
      }
    },
    {
      "cell_type": "code",
      "source": [
        "#Q1. Create a 3x3 NumPy array with random integers between 1 and 100. Then, interchange its rows and columns.\n",
        "\n",
        "import numpy as np\n",
        "arr = np.random.randint(1,101,size=(3,3))\n",
        "print(arr)"
      ],
      "metadata": {
        "colab": {
          "base_uri": "https://localhost:8080/"
        },
        "id": "YEC-3dhHFzvB",
        "outputId": "b02c9e2b-2e35-41c1-c61c-cc814442ba24"
      },
      "execution_count": 35,
      "outputs": [
        {
          "output_type": "stream",
          "name": "stdout",
          "text": [
            "[[80 61 18]\n",
            " [81 32 82]\n",
            " [38 20  4]]\n"
          ]
        }
      ]
    },
    {
      "cell_type": "code",
      "source": [
        "#interchange rows and columns\n",
        "\n",
        "interchanger_arr = arr.T\n",
        "print(interchanger_arr)\n"
      ],
      "metadata": {
        "colab": {
          "base_uri": "https://localhost:8080/"
        },
        "id": "aCgqupRYQAne",
        "outputId": "0e9ca3a2-8897-4329-a2c7-82527b924d2c"
      },
      "execution_count": 36,
      "outputs": [
        {
          "output_type": "stream",
          "name": "stdout",
          "text": [
            "[[80 81 38]\n",
            " [61 32 20]\n",
            " [18 82  4]]\n"
          ]
        }
      ]
    },
    {
      "cell_type": "code",
      "source": [
        "#Q2. Generate a 1D NumPy array with 10 elements. Reshape it into a 2x5 array, then into a 5x2 array.\n",
        "\n",
        "\n",
        "import numpy as np\n",
        "arr_1d = np.arange(10)\n",
        "print(arr_1d)\n"
      ],
      "metadata": {
        "colab": {
          "base_uri": "https://localhost:8080/"
        },
        "id": "6kP5wjMrQfKg",
        "outputId": "f6532c79-e324-4ece-bf74-4beb423e0480"
      },
      "execution_count": 39,
      "outputs": [
        {
          "output_type": "stream",
          "name": "stdout",
          "text": [
            "[0 1 2 3 4 5 6 7 8 9]\n"
          ]
        }
      ]
    },
    {
      "cell_type": "code",
      "source": [
        "#reshape it into 2x5\n",
        "\n",
        "arr_2 = arr_1d.reshape(2,5)\n",
        "print(arr_2)\n"
      ],
      "metadata": {
        "colab": {
          "base_uri": "https://localhost:8080/"
        },
        "id": "xwuXslzzQ0tn",
        "outputId": "cd6c19e2-818c-456e-8d7f-5862a76ff12e"
      },
      "execution_count": 41,
      "outputs": [
        {
          "output_type": "stream",
          "name": "stdout",
          "text": [
            "[[0 1 2 3 4]\n",
            " [5 6 7 8 9]]\n"
          ]
        }
      ]
    },
    {
      "cell_type": "code",
      "source": [
        "#reshape it into 5x2\n",
        "\n",
        "arr_3 = arr_2.reshape(5,2)\n",
        "print(arr_3)"
      ],
      "metadata": {
        "colab": {
          "base_uri": "https://localhost:8080/"
        },
        "id": "fPKaKj2XRakQ",
        "outputId": "e0890e1b-6c8b-400e-9a53-f65cd9753dd6"
      },
      "execution_count": 42,
      "outputs": [
        {
          "output_type": "stream",
          "name": "stdout",
          "text": [
            "[[0 1]\n",
            " [2 3]\n",
            " [4 5]\n",
            " [6 7]\n",
            " [8 9]]\n"
          ]
        }
      ]
    },
    {
      "cell_type": "code",
      "source": [
        "#Q3. Create a 4x4 NumPy array with random float values. Add a border of zeros around it, resulting in a 6x6 array.\n",
        "\n",
        "import numpy as np\n",
        "arr = np.random.rand(4,4)\n",
        "print(arr)"
      ],
      "metadata": {
        "colab": {
          "base_uri": "https://localhost:8080/"
        },
        "id": "EFNDM-p4RqDo",
        "outputId": "fa3d75d7-fb59-4417-dd1a-bef909871a69"
      },
      "execution_count": 44,
      "outputs": [
        {
          "output_type": "stream",
          "name": "stdout",
          "text": [
            "[[0.26442903 0.84297178 0.78090298 0.52758848]\n",
            " [0.72877905 0.74716561 0.56529074 0.32028963]\n",
            " [0.80621336 0.56064044 0.68523144 0.1206586 ]\n",
            " [0.71224121 0.13638046 0.87347111 0.78386685]]\n"
          ]
        }
      ]
    },
    {
      "cell_type": "code",
      "source": [
        "#add a border of zeros\n",
        "\n",
        "arr_border = np.pad(arr, pad_width=1, mode='constant', constant_values=0)\n",
        "print(arr_border)"
      ],
      "metadata": {
        "colab": {
          "base_uri": "https://localhost:8080/"
        },
        "id": "tp20AJHhR6hz",
        "outputId": "b25e735e-2d91-4201-c080-5bd43f07547d"
      },
      "execution_count": 45,
      "outputs": [
        {
          "output_type": "stream",
          "name": "stdout",
          "text": [
            "[[0.         0.         0.         0.         0.         0.        ]\n",
            " [0.         0.26442903 0.84297178 0.78090298 0.52758848 0.        ]\n",
            " [0.         0.72877905 0.74716561 0.56529074 0.32028963 0.        ]\n",
            " [0.         0.80621336 0.56064044 0.68523144 0.1206586  0.        ]\n",
            " [0.         0.71224121 0.13638046 0.87347111 0.78386685 0.        ]\n",
            " [0.         0.         0.         0.         0.         0.        ]]\n"
          ]
        }
      ]
    },
    {
      "cell_type": "code",
      "source": [
        "#Q4. Using NumPy, create an array of integers from 10 to 60 with a step of 5.\n",
        "\n",
        "import numpy as np\n",
        "arr = np.arange(10,61,5)\n",
        "print(arr)"
      ],
      "metadata": {
        "colab": {
          "base_uri": "https://localhost:8080/"
        },
        "id": "fq4YBg1GSmxA",
        "outputId": "88b0bc97-5955-4e5f-a07d-cac697343d95"
      },
      "execution_count": 46,
      "outputs": [
        {
          "output_type": "stream",
          "name": "stdout",
          "text": [
            "[10 15 20 25 30 35 40 45 50 55 60]\n"
          ]
        }
      ]
    },
    {
      "cell_type": "code",
      "source": [
        "#Q5. Create a NumPy array of strings ['python', 'numpy', 'pandas']. Apply different case transformations (uppercase, lowercase, title case, etc.) to each element.\n",
        "\n",
        "import numpy as np\n",
        "arr = np.array(['python', 'numpy', 'pandas'])\n",
        "print(arr)"
      ],
      "metadata": {
        "colab": {
          "base_uri": "https://localhost:8080/"
        },
        "id": "FZHBLVEgS-En",
        "outputId": "484a7c65-99cc-4525-9ee1-909d54d31019"
      },
      "execution_count": 47,
      "outputs": [
        {
          "output_type": "stream",
          "name": "stdout",
          "text": [
            "['python' 'numpy' 'pandas']\n"
          ]
        }
      ]
    },
    {
      "cell_type": "code",
      "source": [
        "#applying uppercase\n",
        "\n",
        "arr_upper = np.char.upper(arr)\n",
        "print(arr_upper)"
      ],
      "metadata": {
        "colab": {
          "base_uri": "https://localhost:8080/"
        },
        "id": "qKxHPH9JTiMr",
        "outputId": "b7b294cd-e639-4df3-d1a0-4f319ef9c4dd"
      },
      "execution_count": 48,
      "outputs": [
        {
          "output_type": "stream",
          "name": "stdout",
          "text": [
            "['PYTHON' 'NUMPY' 'PANDAS']\n"
          ]
        }
      ]
    },
    {
      "cell_type": "code",
      "source": [
        "#applying lowercase\n",
        "\n",
        "arr_lower = np.char.lower(arr)\n",
        "print(arr_lower)"
      ],
      "metadata": {
        "colab": {
          "base_uri": "https://localhost:8080/"
        },
        "id": "-Ebh6W4YT0A_",
        "outputId": "5618d4bc-7440-4dca-a057-14aa05722ac0"
      },
      "execution_count": 49,
      "outputs": [
        {
          "output_type": "stream",
          "name": "stdout",
          "text": [
            "['python' 'numpy' 'pandas']\n"
          ]
        }
      ]
    },
    {
      "cell_type": "code",
      "source": [
        "#applying title case\n",
        "\n",
        "arr_title = np.char.title(arr)\n",
        "print(arr_title)"
      ],
      "metadata": {
        "colab": {
          "base_uri": "https://localhost:8080/"
        },
        "id": "rSF8Trg9T_oS",
        "outputId": "d066d876-97d4-41cb-ee9e-0fb06bd9c398"
      },
      "execution_count": 50,
      "outputs": [
        {
          "output_type": "stream",
          "name": "stdout",
          "text": [
            "['Python' 'Numpy' 'Pandas']\n"
          ]
        }
      ]
    },
    {
      "cell_type": "code",
      "source": [
        "#Q6. Generate a NumPy array of words. Insert a space between each character of every word in the array.\n",
        "\n",
        "import numpy as np\n",
        "words_array = np.array(['pw','skills'])\n",
        "print(words_array)\n"
      ],
      "metadata": {
        "colab": {
          "base_uri": "https://localhost:8080/"
        },
        "id": "zS3kG1ITUL6q",
        "outputId": "a251d71b-5917-4658-c92d-37432c96a7e2"
      },
      "execution_count": 51,
      "outputs": [
        {
          "output_type": "stream",
          "name": "stdout",
          "text": [
            "['pw' 'skills']\n"
          ]
        }
      ]
    },
    {
      "cell_type": "code",
      "source": [
        "#insert a space between each word\n",
        "\n",
        "spaced_array = np.char.join(' ', words_array)\n",
        "print(spaced_array)"
      ],
      "metadata": {
        "colab": {
          "base_uri": "https://localhost:8080/"
        },
        "id": "_kCkWLe5U34A",
        "outputId": "4b8b5a89-3dfd-4c5d-901d-ed37cb2b288b"
      },
      "execution_count": 52,
      "outputs": [
        {
          "output_type": "stream",
          "name": "stdout",
          "text": [
            "['p w' 's k i l l s']\n"
          ]
        }
      ]
    },
    {
      "cell_type": "code",
      "source": [
        "#Q7. Create two 2D NumPy arrays and perform element-wise addition, subtraction, multiplication, and division.\n",
        "\n",
        "import numpy as np\n",
        "array1 = np.array([[2,2,3]])\n",
        "array2 = np.array([[2,2,2]])\n",
        "print(array1,array2)"
      ],
      "metadata": {
        "colab": {
          "base_uri": "https://localhost:8080/"
        },
        "id": "OXcVnyKwVEnA",
        "outputId": "9fac6b92-5bc5-4de5-ffa7-8a9592ee06eb"
      },
      "execution_count": 53,
      "outputs": [
        {
          "output_type": "stream",
          "name": "stdout",
          "text": [
            "[[2 2 3]] [[2 2 2]]\n"
          ]
        }
      ]
    },
    {
      "cell_type": "code",
      "source": [
        "#perform element wise addition\n",
        "\n",
        "print(array1+array2)"
      ],
      "metadata": {
        "colab": {
          "base_uri": "https://localhost:8080/"
        },
        "id": "P_QkyskKVxGg",
        "outputId": "d432b41c-1039-4b83-f2f1-05c3861eb244"
      },
      "execution_count": 55,
      "outputs": [
        {
          "output_type": "stream",
          "name": "stdout",
          "text": [
            "[[4 4 5]]\n"
          ]
        }
      ]
    },
    {
      "cell_type": "code",
      "source": [
        "#subtraction\n",
        "\n",
        "print(array1-array2)"
      ],
      "metadata": {
        "colab": {
          "base_uri": "https://localhost:8080/"
        },
        "id": "Qvx9wIuBWCUX",
        "outputId": "26d2b350-6af7-4bf1-db0d-9299d11ab021"
      },
      "execution_count": 56,
      "outputs": [
        {
          "output_type": "stream",
          "name": "stdout",
          "text": [
            "[[0 0 1]]\n"
          ]
        }
      ]
    },
    {
      "cell_type": "code",
      "source": [
        "#multiplication\n",
        "\n",
        "print(array1*array2)"
      ],
      "metadata": {
        "colab": {
          "base_uri": "https://localhost:8080/"
        },
        "id": "cgLGZEe0WSHL",
        "outputId": "3b947b77-ca5a-4717-9c37-b040b1230c7e"
      },
      "execution_count": 57,
      "outputs": [
        {
          "output_type": "stream",
          "name": "stdout",
          "text": [
            "[[4 4 6]]\n"
          ]
        }
      ]
    },
    {
      "cell_type": "code",
      "source": [
        "#division\n",
        "\n",
        "print(array1/array2)"
      ],
      "metadata": {
        "colab": {
          "base_uri": "https://localhost:8080/"
        },
        "id": "zomTdTXIWWQb",
        "outputId": "246dbeac-7e2e-468a-cc89-7b5c06afd2d0"
      },
      "execution_count": 58,
      "outputs": [
        {
          "output_type": "stream",
          "name": "stdout",
          "text": [
            "[[1.  1.  1.5]]\n"
          ]
        }
      ]
    },
    {
      "cell_type": "code",
      "source": [
        "#Q8. Use NumPy to create a 5x5 identity matrix, then extract its diagonal elements.\n",
        "\n",
        "import numpy as np\n",
        "arr = np.eye(5)\n",
        "print(arr)"
      ],
      "metadata": {
        "colab": {
          "base_uri": "https://localhost:8080/"
        },
        "id": "1KaGfy9RWZuX",
        "outputId": "51e0f2b9-62c1-4460-c895-677f3c719c4c"
      },
      "execution_count": 59,
      "outputs": [
        {
          "output_type": "stream",
          "name": "stdout",
          "text": [
            "[[1. 0. 0. 0. 0.]\n",
            " [0. 1. 0. 0. 0.]\n",
            " [0. 0. 1. 0. 0.]\n",
            " [0. 0. 0. 1. 0.]\n",
            " [0. 0. 0. 0. 1.]]\n"
          ]
        }
      ]
    },
    {
      "cell_type": "code",
      "source": [
        "#extract its diagonal elements\n",
        "\n",
        "print(np.diag(arr))"
      ],
      "metadata": {
        "colab": {
          "base_uri": "https://localhost:8080/"
        },
        "id": "EaFDSwrFWno2",
        "outputId": "a0c17655-6040-43e3-d741-6989c43ce660"
      },
      "execution_count": 60,
      "outputs": [
        {
          "output_type": "stream",
          "name": "stdout",
          "text": [
            "[1. 1. 1. 1. 1.]\n"
          ]
        }
      ]
    },
    {
      "cell_type": "code",
      "source": [
        "#Q9. Generate a NumPy array of 100 random integers between 0 and 1000. Find and display all prime numbers in this array.\n",
        "\n",
        "import numpy as np\n",
        "\n",
        "def is_prime(n):\n",
        "  \"\"\"Checks if a number is prime.\"\"\"\n",
        "  if n <= 1:\n",
        "    return False\n",
        "  for i in range(2, int(n**0.5) + 1):\n",
        "    if n % i == 0:\n",
        "      return False\n",
        "  return True"
      ],
      "metadata": {
        "id": "u1ORHdtnZad4"
      },
      "execution_count": 76,
      "outputs": []
    },
    {
      "cell_type": "code",
      "source": [
        "import numpy as np\n",
        "arr = np.random.randint(0,1001,size=100)\n",
        "print(arr)"
      ],
      "metadata": {
        "colab": {
          "base_uri": "https://localhost:8080/"
        },
        "id": "soI8X-U-ZpjI",
        "outputId": "3ae91113-1c32-451e-9846-9e6113797093"
      },
      "execution_count": 77,
      "outputs": [
        {
          "output_type": "stream",
          "name": "stdout",
          "text": [
            "[318 190 319  37 443 664 240 901 786 428  42 394 371 583 813 240 308 799\n",
            " 938 330 304 829 701 427  58 518 564 796 452 759 897 105 748 535 717 195\n",
            " 805 553 879 368 774 171 747 214 728 486 907 315 373 575 548 351  58 347\n",
            " 925 793 985 465 513 117 256 521  29 747  92  76 848 772 470 788 875 372\n",
            " 972 291 402 446 864 569 432 759 126  18 317 871 505 193 393 195 280  29\n",
            " 745 669 334  62 920 801   7 680 938 813]\n"
          ]
        }
      ]
    },
    {
      "cell_type": "code",
      "source": [
        "prime_numbers = [num for num in arr if is_prime(num)]\n",
        "print(\"Prime numbers in the array:\", prime_numbers)"
      ],
      "metadata": {
        "colab": {
          "base_uri": "https://localhost:8080/"
        },
        "id": "b4RpeEFhZyCg",
        "outputId": "86786661-90db-4986-a6ad-54c5564e1c24"
      },
      "execution_count": 78,
      "outputs": [
        {
          "output_type": "stream",
          "name": "stdout",
          "text": [
            "Prime numbers in the array: [37, 443, 829, 701, 907, 373, 347, 521, 29, 569, 317, 193, 29, 7]\n"
          ]
        }
      ]
    },
    {
      "cell_type": "code",
      "source": [
        "#Q10. Create a NumPy array representing daily temperatures for a month. Calculate and display the weekly averages\n",
        "\n",
        "import numpy as np\n",
        "temperatures = np.random.randint(10,40,size=30)\n",
        "print(temperatures)"
      ],
      "metadata": {
        "colab": {
          "base_uri": "https://localhost:8080/"
        },
        "id": "Pa9j6JrmZ2AZ",
        "outputId": "eaae9051-b15b-482c-de78-2e13285a5763"
      },
      "execution_count": 79,
      "outputs": [
        {
          "output_type": "stream",
          "name": "stdout",
          "text": [
            "[24 14 28 10 34 22 30 26 31 16 14 38 38 25 30 39 12 35 33 20 30 29 10 28\n",
            " 27 33 23 33 20 10]\n"
          ]
        }
      ]
    },
    {
      "cell_type": "code",
      "source": [
        "weekly_averages = np.array_split(temperatures,4)\n",
        "print(weekly_averages)"
      ],
      "metadata": {
        "colab": {
          "base_uri": "https://localhost:8080/"
        },
        "id": "1oi5RdibauSL",
        "outputId": "accaf06a-b6a4-477c-9174-3999f2059384"
      },
      "execution_count": 80,
      "outputs": [
        {
          "output_type": "stream",
          "name": "stdout",
          "text": [
            "[array([24, 14, 28, 10, 34, 22, 30, 26]), array([31, 16, 14, 38, 38, 25, 30, 39]), array([12, 35, 33, 20, 30, 29, 10]), array([28, 27, 33, 23, 33, 20, 10])]\n"
          ]
        }
      ]
    },
    {
      "cell_type": "code",
      "source": [
        "weekly_averages = [np.mean(week) for week in weekly_averages]\n",
        "print(weekly_averages)"
      ],
      "metadata": {
        "colab": {
          "base_uri": "https://localhost:8080/"
        },
        "id": "oKQYJ_EGa9JC",
        "outputId": "c000dfe5-c794-4864-f3d0-d131a6f48a6b"
      },
      "execution_count": 84,
      "outputs": [
        {
          "output_type": "stream",
          "name": "stdout",
          "text": [
            "[23.5, 28.875, 24.142857142857142, 24.857142857142858]\n"
          ]
        }
      ]
    }
  ]
}